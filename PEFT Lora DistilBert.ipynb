{
 "cells": [
  {
   "cell_type": "markdown",
   "id": "a2298066-3a26-40dd-b96c-b7d7e50685a3",
   "metadata": {},
   "source": [
    "# PEFT-Lora on Quantized 8-bit DistilBert\n",
    "\n",
    "## Introduction\n",
    "\n",
    "This notebook demonstrates how to fine-tune a quantized 8-bit version of the DistilBert model using **Parameter-Efficient Fine-Tuning (PEFT)** with Low-Rank Adaptation (LoRA). Fine-tuning large pre-trained models is a common task in natural language processing (NLP), but it is often computationally expensive and resource-intensive, especially when dealing with models in their full precision (i.e., 32-bit floating point). By leveraging quantization and PEFT, we can significantly reduce the model's memory footprint and computational requirements, enabling efficient fine-tuning with fewer parameters and in reduced precision.\n",
    "\n",
    "The DistilBert model used in this notebook has been previously quantized to 8-bit, allowing for faster and more resource-efficient computations. To further improve the model's performance without drastically increasing its size or complexity, we will apply **LoRA**, a technique that reduces the number of trainable parameters by injecting learnable low-rank matrices into the attention heads of the transformer. This method maintains the performance of full fine-tuning while being much more efficient.\n",
    "\n",
    "## Notebook Overview\n",
    "\n",
    "In this notebook, we will:\n",
    "\n",
    "1. Load the pre-quantized 8-bit version of DistilBert.\n",
    "2. Apply LoRA to introduce parameter-efficient fine-tuning.\n",
    "3. Run the fine-tuning process while optimizing memory usage and computational performance.\n",
    "4. Evaluate the model's performance using metrics such as accuracy and observe the improvements gained from fine-tuning.\n",
    "\n",
    "### Why PEFT and LoRA?\n",
    "\n",
    "**PEFT** techniques, such as LoRA, are increasingly important as models grow larger and more complex. Traditional fine-tuning modifies all of a model’s parameters, which can be prohibitively expensive. In contrast, PEFT modifies only a small subset of parameters, resulting in significantly reduced memory requirements and faster training. **LoRA** achieves this by decomposing the weight updates into low-rank matrices, allowing the model to efficiently learn task-specific adaptations without the overhead of training the entire model. A very good introduction about this topic can be read from the following blog - [heidloff/lora](https://heidloff.net/article/efficient-fine-tuning-lora/)\n",
    "\n",
    "![lora](./assets/lora.png)\n",
    "\n",
    "<small><i>Source: https://heidloff.net/article/efficient-fine-tuning-lora/</i></source>\n",
    "\n",
    "By combining **quantization** and **LoRA**, this notebook showcases how to fine-tune large models on resource-constrained environments like personal laptops or smaller cloud instances, without sacrificing significant performance.\n",
    "\n",
    "This implementation draws inspiration from various sources, including the work shared by the Kaggle community. Special thanks to [kaggle/anthonynam](https://www.kaggle.com/code/anthonynam/qlora-fine-tuning-with-distilbert-daigt-v2/script)'s work for providing valuable insights and inspiration for this notebook.\n",
    "\n",
    "---\n",
    "\n",
    "This notebook serves as an efficient, practical guide to fine-tuning quantized models using PEFT techniques, making it ideal for users who want to maximize the performance of their models without heavy computational costs."
   ]
  },
  {
   "cell_type": "markdown",
   "id": "e64e7144-7cb5-409c-b10f-75488a1663f0",
   "metadata": {},
   "source": [
    "### Import libraries"
   ]
  },
  {
   "cell_type": "code",
   "execution_count": 1,
   "id": "39983d8e-8ca7-4701-a9ab-afd33711ad04",
   "metadata": {},
   "outputs": [
    {
     "name": "stderr",
     "output_type": "stream",
     "text": [
      "/home/sri/miniconda3/envs/llmq/lib/python3.12/site-packages/tqdm/auto.py:21: TqdmWarning: IProgress not found. Please update jupyter and ipywidgets. See https://ipywidgets.readthedocs.io/en/stable/user_install.html\n",
      "  from .autonotebook import tqdm as notebook_tqdm\n"
     ]
    }
   ],
   "source": [
    "# Import libraries\n",
    "import torch\n",
    "from torch.utils.data import DataLoader, Dataset\n",
    "\n",
    "from transformers import (\n",
    "    AutoModelForSequenceClassification as DistilBertForSequenceClassification, \n",
    "    DistilBertTokenizer, BitsAndBytesConfig,\n",
    "    TrainingArguments, AdamW,\n",
    "    get_linear_schedule_with_warmup,\n",
    "    DataCollatorWithPadding, Trainer\n",
    ")\n",
    "from datasets import load_dataset\n",
    "from peft import (\n",
    "    PeftConfig, LoraConfig,\n",
    "    TaskType, get_peft_model,\n",
    "    prepare_model_for_kbit_training\n",
    ")\n",
    "\n",
    "import math\n",
    "from tqdm import tqdm\n",
    "import numpy as np"
   ]
  },
  {
   "cell_type": "code",
   "execution_count": 2,
   "id": "5806b53d-3cb0-42b7-b785-4b4e8dd34679",
   "metadata": {},
   "outputs": [
    {
     "name": "stdout",
     "output_type": "stream",
     "text": [
      "Using device: cuda\n"
     ]
    }
   ],
   "source": [
    "# Check the device\n",
    "device = torch.device(\"cuda\" if torch.cuda.is_available() else \"cpu\")\n",
    "print(f\"Using device: {device}\")"
   ]
  },
  {
   "cell_type": "markdown",
   "id": "bd39e6fd-b6e9-4413-a188-33502aed6dc4",
   "metadata": {},
   "source": [
    "### Original (FP32) Model Stats\n",
    "\n",
    "Let us load the original model and get its performance stats on the test dataset."
   ]
  },
  {
   "cell_type": "code",
   "execution_count": 3,
   "id": "2a8f4166-eebc-4418-91c5-40e0f6c149cf",
   "metadata": {},
   "outputs": [
    {
     "data": {
      "text/plain": [
       "DistilBertForSequenceClassification(\n",
       "  (distilbert): DistilBertModel(\n",
       "    (embeddings): Embeddings(\n",
       "      (word_embeddings): Embedding(30522, 768, padding_idx=0)\n",
       "      (position_embeddings): Embedding(512, 768)\n",
       "      (LayerNorm): LayerNorm((768,), eps=1e-12, elementwise_affine=True)\n",
       "      (dropout): Dropout(p=0.1, inplace=False)\n",
       "    )\n",
       "    (transformer): Transformer(\n",
       "      (layer): ModuleList(\n",
       "        (0-5): 6 x TransformerBlock(\n",
       "          (attention): MultiHeadSelfAttention(\n",
       "            (dropout): Dropout(p=0.1, inplace=False)\n",
       "            (q_lin): Linear(in_features=768, out_features=768, bias=True)\n",
       "            (k_lin): Linear(in_features=768, out_features=768, bias=True)\n",
       "            (v_lin): Linear(in_features=768, out_features=768, bias=True)\n",
       "            (out_lin): Linear(in_features=768, out_features=768, bias=True)\n",
       "          )\n",
       "          (sa_layer_norm): LayerNorm((768,), eps=1e-12, elementwise_affine=True)\n",
       "          (ffn): FFN(\n",
       "            (dropout): Dropout(p=0.1, inplace=False)\n",
       "            (lin1): Linear(in_features=768, out_features=3072, bias=True)\n",
       "            (lin2): Linear(in_features=3072, out_features=768, bias=True)\n",
       "            (activation): GELUActivation()\n",
       "          )\n",
       "          (output_layer_norm): LayerNorm((768,), eps=1e-12, elementwise_affine=True)\n",
       "        )\n",
       "      )\n",
       "    )\n",
       "  )\n",
       "  (pre_classifier): Linear(in_features=768, out_features=768, bias=True)\n",
       "  (classifier): Linear(in_features=768, out_features=6, bias=True)\n",
       "  (dropout): Dropout(p=0.2, inplace=False)\n",
       ")"
      ]
     },
     "execution_count": 3,
     "metadata": {},
     "output_type": "execute_result"
    }
   ],
   "source": [
    "# Load pre-trained model and tokenizer\n",
    "model_name = 'bhadresh-savani/distilbert-base-uncased-emotion'\n",
    "model_orig = DistilBertForSequenceClassification.from_pretrained(model_name)\n",
    "tokenizer = DistilBertTokenizer.from_pretrained(model_name)\n",
    "\n",
    "model_orig.to(device)\n",
    "model_orig.eval()"
   ]
  },
  {
   "cell_type": "code",
   "execution_count": 4,
   "id": "2c91ba3e-391d-449a-9c4c-701c87a7c160",
   "metadata": {},
   "outputs": [],
   "source": [
    "# Load the dataset\n",
    "ds = load_dataset(\"dair-ai/emotion\", \"split\")"
   ]
  },
  {
   "cell_type": "code",
   "execution_count": 5,
   "id": "3bb00094-79fa-4887-95c5-f9f8bbdbd65d",
   "metadata": {},
   "outputs": [
    {
     "name": "stderr",
     "output_type": "stream",
     "text": [
      "Evaluating: 100%|███████████████████████████████████████████████████████████| 32/32 [00:08<00:00,  3.80it/s]"
     ]
    },
    {
     "name": "stdout",
     "output_type": "stream",
     "text": [
      "\n",
      "Original model accuracy: 92.70%\n",
      "Original model memory footprint: 255.4287338256836 MB\n"
     ]
    },
    {
     "name": "stderr",
     "output_type": "stream",
     "text": [
      "\n"
     ]
    }
   ],
   "source": [
    "# Helper method to evaluate\n",
    "def evaluate(model, ds, batch_size=64, device='cuda'):\n",
    "    model.eval()\n",
    "    total, correct = 0, 0\n",
    "    dataloader = DataLoader(ds['test'], batch_size=batch_size)\n",
    "    with torch.no_grad():\n",
    "        for batch in tqdm(dataloader, desc=\"Evaluating\"):\n",
    "            tokenized = tokenizer(batch['text'], truncation=True, padding=True, return_tensors=\"pt\")\n",
    "            input_ids = tokenized.input_ids.to(device)\n",
    "            attention_mask = tokenized.attention_mask.to(device)\n",
    "            labels = batch['label'].to(device)\n",
    "            outputs = model(input_ids, attention_mask=attention_mask)\n",
    "            predictions = torch.argmax(outputs.logits, dim=-1)\n",
    "            correct += (predictions == labels).sum().item()\n",
    "            total += labels.size(0)\n",
    "    accuracy = correct / total\n",
    "    return accuracy\n",
    "\n",
    "# Evaluate the original model\n",
    "original_accuracy = evaluate(model_orig, ds)\n",
    "original_memory = model_orig.get_memory_footprint() / (1024 * 1024) # MB\n",
    "print(f'\\nOriginal model accuracy: {original_accuracy * 100:.2f}%')\n",
    "print(f\"Original model memory footprint: {original_memory} MB\")"
   ]
  },
  {
   "cell_type": "markdown",
   "id": "5291ddb4-ac20-425d-819a-388e1f75cb5a",
   "metadata": {},
   "source": [
    "### Quantized 8-bit Model Stats\n",
    "\n",
    "Now let's load the model in quantized 8-bit format and get its statistics"
   ]
  },
  {
   "cell_type": "code",
   "execution_count": 6,
   "id": "4fb5cb1a-cac6-4705-abf7-d3747db8a3a1",
   "metadata": {},
   "outputs": [
    {
     "name": "stderr",
     "output_type": "stream",
     "text": [
      "`low_cpu_mem_usage` was None, now set to True since model is quantized.\n"
     ]
    },
    {
     "data": {
      "text/plain": [
       "DistilBertForSequenceClassification(\n",
       "  (distilbert): DistilBertModel(\n",
       "    (embeddings): Embeddings(\n",
       "      (word_embeddings): Embedding(30522, 768, padding_idx=0)\n",
       "      (position_embeddings): Embedding(512, 768)\n",
       "      (LayerNorm): LayerNorm((768,), eps=1e-12, elementwise_affine=True)\n",
       "      (dropout): Dropout(p=0.1, inplace=False)\n",
       "    )\n",
       "    (transformer): Transformer(\n",
       "      (layer): ModuleList(\n",
       "        (0-5): 6 x TransformerBlock(\n",
       "          (attention): MultiHeadSelfAttention(\n",
       "            (dropout): Dropout(p=0.1, inplace=False)\n",
       "            (q_lin): Linear8bitLt(in_features=768, out_features=768, bias=True)\n",
       "            (k_lin): Linear8bitLt(in_features=768, out_features=768, bias=True)\n",
       "            (v_lin): Linear8bitLt(in_features=768, out_features=768, bias=True)\n",
       "            (out_lin): Linear8bitLt(in_features=768, out_features=768, bias=True)\n",
       "          )\n",
       "          (sa_layer_norm): LayerNorm((768,), eps=1e-12, elementwise_affine=True)\n",
       "          (ffn): FFN(\n",
       "            (dropout): Dropout(p=0.1, inplace=False)\n",
       "            (lin1): Linear8bitLt(in_features=768, out_features=3072, bias=True)\n",
       "            (lin2): Linear8bitLt(in_features=3072, out_features=768, bias=True)\n",
       "            (activation): GELUActivation()\n",
       "          )\n",
       "          (output_layer_norm): LayerNorm((768,), eps=1e-12, elementwise_affine=True)\n",
       "        )\n",
       "      )\n",
       "    )\n",
       "  )\n",
       "  (pre_classifier): Linear8bitLt(in_features=768, out_features=768, bias=True)\n",
       "  (classifier): Linear(in_features=768, out_features=6, bias=True)\n",
       "  (dropout): Dropout(p=0.2, inplace=False)\n",
       ")"
      ]
     },
     "execution_count": 6,
     "metadata": {},
     "output_type": "execute_result"
    }
   ],
   "source": [
    "# Load the 8-bit model and evaluate\n",
    "quantization_config = BitsAndBytesConfig(load_in_8bit=True)\n",
    "\n",
    "model_8bit = DistilBertForSequenceClassification.from_pretrained(\n",
    "    model_name,\n",
    "    quantization_config=quantization_config\n",
    ")\n",
    "\n",
    "model_8bit.eval()"
   ]
  },
  {
   "cell_type": "code",
   "execution_count": 7,
   "id": "b816732b-35d5-4ca9-9b7f-6e8a5f1af23f",
   "metadata": {},
   "outputs": [
    {
     "name": "stderr",
     "output_type": "stream",
     "text": [
      "Evaluating: 100%|███████████████████████████████████████████████████████████| 32/32 [00:05<00:00,  5.59it/s]"
     ]
    },
    {
     "name": "stdout",
     "output_type": "stream",
     "text": [
      "\n",
      "8 bit model accuracy: 28.40%\n",
      "8 bit model memory footprint: 86.6538200378418 MB\n"
     ]
    },
    {
     "name": "stderr",
     "output_type": "stream",
     "text": [
      "\n"
     ]
    }
   ],
   "source": [
    "accuracy_8bit = evaluate(model_8bit, ds)\n",
    "memory_8bit = model_8bit.get_memory_footprint() / (1024 * 1024) # MB\n",
    "\n",
    "print(f'\\n8 bit model accuracy: {accuracy_8bit * 100:.2f}%')\n",
    "print(f'8 bit model memory footprint: {memory_8bit} MB')"
   ]
  },
  {
   "cell_type": "markdown",
   "id": "e0748027-b6b1-4680-b4ed-dae2d25110aa",
   "metadata": {},
   "source": [
    "### Model Comparison: Accuracy vs Memory Footprint\n",
    "\n",
    "When we compare the performance and memory usage of the quantized 8-bit DistilBert model versus the original full-precision model. While quantization significantly reduces the memory footprint, it results in a noticeable degradation in model accuracy.\n",
    "\n",
    "| **Model**             | **Accuracy (%)** | **Memory Footprint (MB)** |\n",
    "|-----------------------|------------------|---------------------------|\n",
    "| 8-bit DistilBert       | 28.40            | 86.65                     |\n",
    "| Original DistilBert    | 92.70            | 255.43                    |\n",
    "\n",
    "As seen in the table:\n",
    "- The **8-bit model** offers a substantial reduction in memory usage, making it suitable for environments with limited resources.\n",
    "- However, this reduction comes at the cost of a significant drop in **accuracy**.\n",
    "\n",
    "In the following section, we will attempt to improve the accuracy of the 8-bit model using **Parameter-Efficient Fine-Tuning (PEFT)**, while still maintaining its memory efficiency."
   ]
  },
  {
   "cell_type": "markdown",
   "id": "2667bbe0-de8a-4d54-9d24-b805c315e9af",
   "metadata": {},
   "source": [
    "## PEFT - Lora\n",
    "\n",
    "### Prepare Model and Adapter"
   ]
  },
  {
   "cell_type": "code",
   "execution_count": 8,
   "id": "96359f83-c12f-42aa-a257-484ee45cfd3c",
   "metadata": {},
   "outputs": [],
   "source": [
    "# Let us load a new model for LORA training\n",
    "model = DistilBertForSequenceClassification.from_pretrained(\n",
    "    model_name,\n",
    "    quantization_config=quantization_config,\n",
    "    low_cpu_mem_usage=True\n",
    ")"
   ]
  },
  {
   "cell_type": "code",
   "execution_count": 9,
   "id": "55ea43a4-e1c0-4f32-95d7-8ccdb32720b4",
   "metadata": {},
   "outputs": [
    {
     "name": "stdout",
     "output_type": "stream",
     "text": [
      "trainable model parameters: 23858694\n",
      "all model parameters: 66958086\n",
      "percentage of trainable model parameters: 35.63%\n"
     ]
    }
   ],
   "source": [
    "# Helper method to print number of trainable parameters\n",
    "# Source - https://www.kaggle.com/code/anthonynam/qlora-fine-tuning-with-distilbert-daigt-v2\n",
    "def print_number_of_trainable_model_parameters(model):\n",
    "    trainable_model_params = 0\n",
    "    all_model_params = 0\n",
    "    for _, param in model.named_parameters():\n",
    "        all_model_params += param.numel()\n",
    "        if param.requires_grad:\n",
    "            trainable_model_params += param.numel()\n",
    "    return f\"trainable model parameters: {trainable_model_params}\\n\" + \\\n",
    "        f\"all model parameters: {all_model_params}\\n\" + \\\n",
    "        f\"percentage of trainable model parameters: \" + \\\n",
    "        f\"{100 * trainable_model_params / all_model_params:.2f}%\"\n",
    "\n",
    "# Number of trainable parameters\n",
    "print(print_number_of_trainable_model_parameters(model))"
   ]
  },
  {
   "cell_type": "code",
   "execution_count": 10,
   "id": "27391a71-8775-43ec-9fa1-6baa5d844335",
   "metadata": {},
   "outputs": [],
   "source": [
    "# Prepare the model for LORA training\n",
    "model = prepare_model_for_kbit_training(model)"
   ]
  },
  {
   "cell_type": "code",
   "execution_count": 11,
   "id": "c0355b2d-0005-4f20-9181-b32d237b9f0f",
   "metadata": {},
   "outputs": [],
   "source": [
    "# Define the LoRA Configuration\n",
    "lora_config = LoraConfig(\n",
    "    r=8, # Rank Number\n",
    "    lora_alpha=16, # Alpha (Scaling Factor)\n",
    "    lora_dropout=0.05, # Dropout Prob for Lora\n",
    "    target_modules=[\"k_lin\",\"v_lin\"], # We will only apply LORA to key/value linear layers.\n",
    "    bias='none',\n",
    "    task_type=TaskType.SEQ_CLS # Seqence Classification Task\n",
    ")"
   ]
  },
  {
   "cell_type": "code",
   "execution_count": 12,
   "id": "dd38b552-624f-4667-8869-78ccade8ec04",
   "metadata": {},
   "outputs": [
    {
     "name": "stdout",
     "output_type": "stream",
     "text": [
      "trainable model parameters: 147456\n",
      "all model parameters: 67105542\n",
      "percentage of trainable model parameters: 0.22%\n"
     ]
    }
   ],
   "source": [
    "# Get our LoRA-enabled model\n",
    "model.add_adapter(lora_config)\n",
    "\n",
    "# Reduced trainble parameters\n",
    "print(print_number_of_trainable_model_parameters(model))"
   ]
  },
  {
   "cell_type": "markdown",
   "id": "ce5a084e-d636-4077-b975-3e1213a8dbd2",
   "metadata": {},
   "source": [
    "**NOTE** - Observe the decrease in trainable parameters from 35.63% to 0.22%!!!\n",
    "\n",
    "### Prepare Dataset"
   ]
  },
  {
   "cell_type": "code",
   "execution_count": 13,
   "id": "3ca9b4a4-0e0b-43ff-bf2e-51dc3af44a4a",
   "metadata": {},
   "outputs": [],
   "source": [
    "# Prepare dataset\n",
    "# Tokenize function\n",
    "def tokenize_func(data):\n",
    "    return tokenizer(data['text'], max_length=512, padding='max_length', return_attention_mask=True, truncation=True)\n",
    "\n",
    "# Tokenize the Training Data\n",
    "train_dataset = ds['train'].map(tokenize_func, batched=True, remove_columns=[\"text\"])\n",
    "val_dataset = ds['validation'].map(tokenize_func,batched=True, remove_columns=[\"text\"])"
   ]
  },
  {
   "cell_type": "markdown",
   "id": "7485fe26-b98e-4c65-8d7f-ceb135ec194e",
   "metadata": {},
   "source": [
    "### Training"
   ]
  },
  {
   "cell_type": "code",
   "execution_count": 14,
   "id": "82330d0a-7030-4b3b-ad00-d00454c0b23e",
   "metadata": {},
   "outputs": [],
   "source": [
    "from sklearn.metrics import accuracy_score\n",
    "import numpy as np\n",
    "\n",
    "# Define Eval Metric\n",
    "def metrics(eval_prediction):\n",
    "    logits, labels = eval_prediction\n",
    "    \n",
    "    # Convert logits to predicted class labels by taking the argmax\n",
    "    predictions = np.argmax(logits, axis=1)\n",
    "    \n",
    "    # Compute accuracy by comparing predictions to true labels\n",
    "    accuracy = accuracy_score(labels, predictions)\n",
    "    \n",
    "    return {\"Val-Accuracy\": accuracy}"
   ]
  },
  {
   "cell_type": "code",
   "execution_count": 15,
   "id": "db4bef58-2b11-4688-bc3f-32a94c29dd14",
   "metadata": {},
   "outputs": [
    {
     "name": "stderr",
     "output_type": "stream",
     "text": [
      "/home/sri/miniconda3/envs/llmq/lib/python3.12/site-packages/accelerate/accelerator.py:494: FutureWarning: `torch.cuda.amp.GradScaler(args...)` is deprecated. Please use `torch.amp.GradScaler('cuda', args...)` instead.\n",
      "  self.scaler = torch.cuda.amp.GradScaler(**kwargs)\n",
      "max_steps is given, it will override any value given in num_train_epochs\n"
     ]
    },
    {
     "name": "stdout",
     "output_type": "stream",
     "text": [
      "Total Steps: 750.0\n"
     ]
    },
    {
     "name": "stderr",
     "output_type": "stream",
     "text": [
      "/home/sri/miniconda3/envs/llmq/lib/python3.12/site-packages/torch/_dynamo/eval_frame.py:600: UserWarning: torch.utils.checkpoint: the use_reentrant parameter should be passed explicitly. In version 2.4 we will raise an exception if use_reentrant is not passed. use_reentrant=False is recommended, but if you need to preserve the current default behavior, you can pass use_reentrant=True. Refer to docs for more details on the differences between the two variants.\n",
      "  return fn(*args, **kwargs)\n",
      "/home/sri/miniconda3/envs/llmq/lib/python3.12/site-packages/bitsandbytes/autograd/_functions.py:316: UserWarning: MatMul8bitLt: inputs will be cast from torch.float32 to float16 during quantization\n",
      "  warnings.warn(f\"MatMul8bitLt: inputs will be cast from {A.dtype} to float16 during quantization\")\n",
      "/home/sri/miniconda3/envs/llmq/lib/python3.12/site-packages/torch/utils/checkpoint.py:295: FutureWarning: `torch.cpu.amp.autocast(args...)` is deprecated. Please use `torch.amp.autocast('cpu', args...)` instead.\n",
      "  with torch.enable_grad(), device_autocast_ctx, torch.cpu.amp.autocast(**ctx.cpu_autocast_kwargs):  # type: ignore[attr-defined]\n"
     ]
    },
    {
     "data": {
      "text/html": [
       "\n",
       "    <div>\n",
       "      \n",
       "      <progress value='22' max='22' style='width:300px; height:20px; vertical-align: middle;'></progress>\n",
       "      [22/22 05:57, Epoch 0/1]\n",
       "    </div>\n",
       "    <table border=\"1\" class=\"dataframe\">\n",
       "  <thead>\n",
       " <tr style=\"text-align: left;\">\n",
       "      <th>Step</th>\n",
       "      <th>Training Loss</th>\n",
       "      <th>Validation Loss</th>\n",
       "      <th>Val-accuracy</th>\n",
       "    </tr>\n",
       "  </thead>\n",
       "  <tbody>\n",
       "    <tr>\n",
       "      <td>10</td>\n",
       "      <td>0.043800</td>\n",
       "      <td>0.151511</td>\n",
       "      <td>0.935500</td>\n",
       "    </tr>\n",
       "    <tr>\n",
       "      <td>20</td>\n",
       "      <td>0.045200</td>\n",
       "      <td>0.152392</td>\n",
       "      <td>0.936500</td>\n",
       "    </tr>\n",
       "  </tbody>\n",
       "</table><p>"
      ],
      "text/plain": [
       "<IPython.core.display.HTML object>"
      ]
     },
     "metadata": {},
     "output_type": "display_data"
    },
    {
     "name": "stderr",
     "output_type": "stream",
     "text": [
      "/home/sri/miniconda3/envs/llmq/lib/python3.12/site-packages/torch/_dynamo/eval_frame.py:600: UserWarning: torch.utils.checkpoint: the use_reentrant parameter should be passed explicitly. In version 2.4 we will raise an exception if use_reentrant is not passed. use_reentrant=False is recommended, but if you need to preserve the current default behavior, you can pass use_reentrant=True. Refer to docs for more details on the differences between the two variants.\n",
      "  return fn(*args, **kwargs)\n",
      "/home/sri/miniconda3/envs/llmq/lib/python3.12/site-packages/bitsandbytes/autograd/_functions.py:316: UserWarning: MatMul8bitLt: inputs will be cast from torch.float32 to float16 during quantization\n",
      "  warnings.warn(f\"MatMul8bitLt: inputs will be cast from {A.dtype} to float16 during quantization\")\n",
      "/home/sri/miniconda3/envs/llmq/lib/python3.12/site-packages/torch/utils/checkpoint.py:295: FutureWarning: `torch.cpu.amp.autocast(args...)` is deprecated. Please use `torch.amp.autocast('cpu', args...)` instead.\n",
      "  with torch.enable_grad(), device_autocast_ctx, torch.cpu.amp.autocast(**ctx.cpu_autocast_kwargs):  # type: ignore[attr-defined]\n",
      "/home/sri/miniconda3/envs/llmq/lib/python3.12/site-packages/torch/_dynamo/eval_frame.py:600: UserWarning: torch.utils.checkpoint: the use_reentrant parameter should be passed explicitly. In version 2.4 we will raise an exception if use_reentrant is not passed. use_reentrant=False is recommended, but if you need to preserve the current default behavior, you can pass use_reentrant=True. Refer to docs for more details on the differences between the two variants.\n",
      "  return fn(*args, **kwargs)\n",
      "/home/sri/miniconda3/envs/llmq/lib/python3.12/site-packages/bitsandbytes/autograd/_functions.py:316: UserWarning: MatMul8bitLt: inputs will be cast from torch.float32 to float16 during quantization\n",
      "  warnings.warn(f\"MatMul8bitLt: inputs will be cast from {A.dtype} to float16 during quantization\")\n",
      "/home/sri/miniconda3/envs/llmq/lib/python3.12/site-packages/torch/utils/checkpoint.py:295: FutureWarning: `torch.cpu.amp.autocast(args...)` is deprecated. Please use `torch.amp.autocast('cpu', args...)` instead.\n",
      "  with torch.enable_grad(), device_autocast_ctx, torch.cpu.amp.autocast(**ctx.cpu_autocast_kwargs):  # type: ignore[attr-defined]\n",
      "/home/sri/miniconda3/envs/llmq/lib/python3.12/site-packages/transformers/integrations/peft.py:397: FutureWarning: The `active_adapter` method is deprecated and will be removed in a future version.\n",
      "  warnings.warn(\n",
      "/home/sri/miniconda3/envs/llmq/lib/python3.12/site-packages/peft/utils/other.py:689: UserWarning: Unable to fetch remote file due to the following error (ReadTimeoutError(\"HTTPSConnectionPool(host='huggingface.co', port=443): Read timed out. (read timeout=10)\"), '(Request ID: 8c5d55d0-e49d-424f-816d-9e7a9b02ce98)') - silently ignoring the lookup for the file config.json in bhadresh-savani/distilbert-base-uncased-emotion.\n",
      "  warnings.warn(\n",
      "/home/sri/miniconda3/envs/llmq/lib/python3.12/site-packages/peft/utils/save_and_load.py:244: UserWarning: Could not find a config file in bhadresh-savani/distilbert-base-uncased-emotion - will assume that the vocabulary was not modified.\n",
      "  warnings.warn(\n"
     ]
    },
    {
     "data": {
      "text/plain": [
       "TrainOutput(global_step=22, training_loss=0.04416496442122893, metrics={'train_runtime': 359.3745, 'train_samples_per_second': 1.959, 'train_steps_per_second': 0.061, 'total_flos': 93582602403840.0, 'train_loss': 0.04416496442122893, 'epoch': 0.044})"
      ]
     },
     "execution_count": 15,
     "metadata": {},
     "output_type": "execute_result"
    }
   ],
   "source": [
    "# Source - https://www.kaggle.com/code/anthonynam/qlora-fine-tuning-with-distilbert-daigt-v2\n",
    "train_batch_size = 32\n",
    "eval_batch_size = 32\n",
    "\n",
    "# Define training Args\n",
    "peft_training_args = TrainingArguments(\n",
    "    output_dir='./results/distilbert-lora',\n",
    "    logging_dir='./logs/distilbert-lora',\n",
    "    learning_rate=1e-4,\n",
    "    per_device_train_batch_size=train_batch_size,\n",
    "    per_device_eval_batch_size=eval_batch_size, \n",
    "    max_steps=22, # NOTE: The max steps is set to 22 for tutorial purposes.\n",
    "    logging_steps=10,\n",
    "    eval_strategy='steps',\n",
    "    eval_steps=10,\n",
    "    weight_decay=0.01,\n",
    "    seed=42,\n",
    "    fp16=True, # Only use with GPU\n",
    "    report_to='none'\n",
    ")\n",
    "\n",
    "# Define Optimzer\n",
    "optimizer = AdamW(model.parameters(), \n",
    "                  lr=1e-4,\n",
    "                  no_deprecation_warning=True)\n",
    "\n",
    "# Define Scheduler\n",
    "n_epochs = peft_training_args.num_train_epochs\n",
    "total_steps = n_epochs * math.ceil(len(train_dataset) / train_batch_size / 2)\n",
    "lr_scheduler = get_linear_schedule_with_warmup(\n",
    "    optimizer, \n",
    "    num_warmup_steps=0, \n",
    "    num_training_steps=total_steps)\n",
    "\n",
    "# Data Collator\n",
    "collator = DataCollatorWithPadding(\n",
    "    tokenizer=tokenizer, \n",
    "    padding=\"longest\"\n",
    ")\n",
    "\n",
    "\n",
    "# Define Trainer\n",
    "peft_trainer = Trainer(\n",
    "    model=model,\n",
    "    args=peft_training_args,\n",
    "    train_dataset=train_dataset, # Training Data\n",
    "    eval_dataset=val_dataset, # Evaluation Data\n",
    "    tokenizer=tokenizer,\n",
    "    compute_metrics=metrics,\n",
    "    optimizers=(optimizer,lr_scheduler),\n",
    "    data_collator=collator\n",
    ")\n",
    "\n",
    "print(f\"Total Steps: {total_steps}\")\n",
    "\n",
    "# Train the model\n",
    "peft_trainer.train()"
   ]
  },
  {
   "cell_type": "markdown",
   "id": "b3d8999d-a6f8-4721-8196-cb21edf7d345",
   "metadata": {},
   "source": [
    "### Evaluation"
   ]
  },
  {
   "cell_type": "code",
   "execution_count": 16,
   "id": "8f48a75e-1e20-4437-88f4-531f08e20124",
   "metadata": {},
   "outputs": [
    {
     "data": {
      "text/plain": [
       "DistilBertForSequenceClassification(\n",
       "  (distilbert): DistilBertModel(\n",
       "    (embeddings): Embeddings(\n",
       "      (word_embeddings): Embedding(30522, 768, padding_idx=0)\n",
       "      (position_embeddings): Embedding(512, 768)\n",
       "      (LayerNorm): LayerNorm((768,), eps=1e-12, elementwise_affine=True)\n",
       "      (dropout): Dropout(p=0.1, inplace=False)\n",
       "    )\n",
       "    (transformer): Transformer(\n",
       "      (layer): ModuleList(\n",
       "        (0-5): 6 x TransformerBlock(\n",
       "          (attention): MultiHeadSelfAttention(\n",
       "            (dropout): Dropout(p=0.1, inplace=False)\n",
       "            (q_lin): Linear8bitLt(in_features=768, out_features=768, bias=True)\n",
       "            (k_lin): lora.Linear8bitLt(\n",
       "              (base_layer): Linear8bitLt(in_features=768, out_features=768, bias=True)\n",
       "              (lora_dropout): ModuleDict(\n",
       "                (default): Dropout(p=0.05, inplace=False)\n",
       "              )\n",
       "              (lora_A): ModuleDict(\n",
       "                (default): Linear(in_features=768, out_features=8, bias=False)\n",
       "              )\n",
       "              (lora_B): ModuleDict(\n",
       "                (default): Linear(in_features=8, out_features=768, bias=False)\n",
       "              )\n",
       "              (lora_embedding_A): ParameterDict()\n",
       "              (lora_embedding_B): ParameterDict()\n",
       "              (lora_magnitude_vector): ModuleDict()\n",
       "            )\n",
       "            (v_lin): lora.Linear8bitLt(\n",
       "              (base_layer): Linear8bitLt(in_features=768, out_features=768, bias=True)\n",
       "              (lora_dropout): ModuleDict(\n",
       "                (default): Dropout(p=0.05, inplace=False)\n",
       "              )\n",
       "              (lora_A): ModuleDict(\n",
       "                (default): Linear(in_features=768, out_features=8, bias=False)\n",
       "              )\n",
       "              (lora_B): ModuleDict(\n",
       "                (default): Linear(in_features=8, out_features=768, bias=False)\n",
       "              )\n",
       "              (lora_embedding_A): ParameterDict()\n",
       "              (lora_embedding_B): ParameterDict()\n",
       "              (lora_magnitude_vector): ModuleDict()\n",
       "            )\n",
       "            (out_lin): Linear8bitLt(in_features=768, out_features=768, bias=True)\n",
       "          )\n",
       "          (sa_layer_norm): LayerNorm((768,), eps=1e-12, elementwise_affine=True)\n",
       "          (ffn): FFN(\n",
       "            (dropout): Dropout(p=0.1, inplace=False)\n",
       "            (lin1): Linear8bitLt(in_features=768, out_features=3072, bias=True)\n",
       "            (lin2): Linear8bitLt(in_features=3072, out_features=768, bias=True)\n",
       "            (activation): GELUActivation()\n",
       "          )\n",
       "          (output_layer_norm): LayerNorm((768,), eps=1e-12, elementwise_affine=True)\n",
       "        )\n",
       "      )\n",
       "    )\n",
       "  )\n",
       "  (pre_classifier): Linear8bitLt(in_features=768, out_features=768, bias=True)\n",
       "  (classifier): Linear(in_features=768, out_features=6, bias=True)\n",
       "  (dropout): Dropout(p=0.2, inplace=False)\n",
       ")"
      ]
     },
     "execution_count": 16,
     "metadata": {},
     "output_type": "execute_result"
    }
   ],
   "source": [
    "def prepare_model_for_eval(model, verbose=False):\n",
    "    \"\"\"\n",
    "    Helper method to convert all FP32 layers in quantized model to\n",
    "    FP16 layers. PEFT-LORA doesn't have an automated way to define\n",
    "    this during training/evaluation. So we need to perform this\n",
    "    manually. \n",
    "    \"\"\"\n",
    "    for name, module in model.named_modules():\n",
    "        # Iterate over the parameters of the module\n",
    "        for param_name, param in module.named_parameters(recurse=False):\n",
    "            # Check if the parameter is in float32\n",
    "            if param.dtype == torch.float32:\n",
    "                if verbose:\n",
    "                    print(f\"Converting {name}.{param_name} to float16\")\n",
    "                \n",
    "                # Convert the parameter to float16\n",
    "                param.data = param.data.half()\n",
    "    \n",
    "                # If the parameter has gradients, convert the gradient type as well\n",
    "                if param.grad is not None:\n",
    "                    param.grad.data = param.grad.data.half()\n",
    "    return model\n",
    "\n",
    "model_8bit_lora = prepare_model_for_eval(peft_trainer.model)\n",
    "model_8bit_lora.eval()"
   ]
  },
  {
   "cell_type": "code",
   "execution_count": 17,
   "id": "adefa029-5bab-447c-9fd6-2c203bfb89e8",
   "metadata": {},
   "outputs": [
    {
     "name": "stderr",
     "output_type": "stream",
     "text": [
      "Evaluating:   0%|                                                                    | 0/32 [00:00<?, ?it/s]/home/sri/miniconda3/envs/llmq/lib/python3.12/site-packages/bitsandbytes/autograd/_functions.py:316: UserWarning: MatMul8bitLt: inputs will be cast from torch.float32 to float16 during quantization\n",
      "  warnings.warn(f\"MatMul8bitLt: inputs will be cast from {A.dtype} to float16 during quantization\")\n",
      "Evaluating: 100%|███████████████████████████████████████████████████████████| 32/32 [00:03<00:00,  8.00it/s]"
     ]
    },
    {
     "name": "stdout",
     "output_type": "stream",
     "text": [
      "\n",
      "8 bit + Lora model accuracy: 92.50%\n",
      "8 bit + Lora model memory footprint: 87.0068473815918 MB\n"
     ]
    },
    {
     "name": "stderr",
     "output_type": "stream",
     "text": [
      "\n"
     ]
    }
   ],
   "source": [
    "accuracy_8bit_lora = evaluate(model_8bit_lora, ds)\n",
    "memory_8bit_lora = model_8bit_lora.get_memory_footprint() / (1024 * 1024) # MB\n",
    "\n",
    "print(f'\\n8 bit + Lora model accuracy: {accuracy_8bit_lora * 100:.2f}%')\n",
    "print(f'8 bit + Lora model memory footprint: {memory_8bit_lora} MB')"
   ]
  },
  {
   "cell_type": "markdown",
   "id": "454c42e6-fd85-4c83-bf9f-d419cfb8a797",
   "metadata": {},
   "source": [
    "### Conclusion\n",
    "\n",
    "From above results, we compare the performance and memory usage of three models: the original full-precision DistilBert, the quantized 8-bit DistilBert, and the 8-bit DistilBert fine-tuned using **Low-Rank Adaptation (LoRA)**. While the 8-bit quantized model shows a drastic reduction in memory footprint, it suffers from a significant drop in accuracy. However, by applying LoRA, we are able to restore most of the model’s accuracy while keeping the memory usage low.\n",
    "\n",
    "| **Model**             | **Accuracy (%)** | **Memory Footprint (MB)** |\n",
    "|-----------------------|------------------|---------------------------|\n",
    "| 8-bit DistilBert       | 28.40            | 86.65                     |\n",
    "| 8-bit DistilBert + LoRA| 92.35            | 87.01                     |\n",
    "| Original DistilBert    | 92.70            | 255.43                    |\n",
    "\n",
    "### Conclusion\n",
    "\n",
    "- The **8-bit model** offers a substantial memory footprint reduction (~66% lower than the original model), but at a significant cost to accuracy.\n",
    "- By applying **LoRA** fine-tuning to the 8-bit model, we achieve **accuracy of 92.35%**, which is almost on par with the original DistilBert model's 92.70%, while maintaining a very small increase in memory footprint (only about 0.35 MB more than the quantized model).\n",
    "- **LoRA fine-tuning** proves to be highly effective in preserving model performance while keeping resource usage low, making it a valuable technique for deploying large models on resource-constrained devices.\n",
    "\n",
    "This notebook demonstrates how **Parameter-Efficient Fine-Tuning (PEFT)**, combined with model quantization, can help balance performance and memory efficiency for NLP tasks."
   ]
  },
  {
   "cell_type": "code",
   "execution_count": 18,
   "id": "596ce22b-3cee-41fc-9433-2a546f480192",
   "metadata": {},
   "outputs": [
    {
     "data": {
      "image/png": "[encoded data removed]",
      "text/plain": [
       "<Figure size 1000x600 with 2 Axes>"
      ]
     },
     "metadata": {},
     "output_type": "display_data"
    }
   ],
   "source": [
    "import matplotlib.pyplot as plt\n",
    "import numpy as np\n",
    "\n",
    "# Data\n",
    "models = [\"8-bit DistilBert\", \"8-bit DistilBert + LoRA\", \"Original DistilBert\"]\n",
    "accuracy = [accuracy_8bit, accuracy_8bit_lora, original_accuracy]\n",
    "memory_footprint = [memory_8bit, memory_8bit_lora, original_memory]\n",
    "\n",
    "# Define colors for each model\n",
    "bar_colors = ['tab:orange', 'tab:green', 'tab:blue']\n",
    "\n",
    "# Create the plot with different colors for each model\n",
    "fig, ax1 = plt.subplots(figsize=(10, 6))\n",
    "\n",
    "# Bar plot for memory footprint with different colors for each model\n",
    "ax1.set_xlabel('Model')\n",
    "ax1.set_ylabel('Memory Footprint (MB)', color='tab:blue')\n",
    "ax1.bar(models, memory_footprint, color=bar_colors, alpha=0.6, label='Memory Footprint (MB)')\n",
    "ax1.tick_params(axis='y', labelcolor='tab:blue')\n",
    "\n",
    "# Create a secondary axis for accuracy\n",
    "ax2 = ax1.twinx()  \n",
    "ax2.set_ylabel('Accuracy (%)', color='tab:red')  \n",
    "ax2.plot(models, accuracy, color='tab:red', marker='o', linewidth=2, label='Accuracy (%)')\n",
    "ax2.tick_params(axis='y', labelcolor='tab:red')\n",
    "\n",
    "# Title and layout\n",
    "plt.title('Model Comparison: Accuracy vs Memory Footprint')\n",
    "fig.tight_layout()\n",
    "\n",
    "# Show plot\n",
    "plt.show()"
   ]
  },
  {
   "cell_type": "code",
   "execution_count": null,
   "id": "b80e210f-debb-4a46-83c2-97c5cb0c4019",
   "metadata": {},
   "outputs": [],
   "source": []
  }
 ],
 "metadata": {
  "kernelspec": {
   "display_name": "Python 3 (ipykernel)",
   "language": "python",
   "name": "python3"
  },
  "language_info": {
   "codemirror_mode": {
    "name": "ipython",
    "version": 3
   },
   "file_extension": ".py",
   "mimetype": "text/x-python",
   "name": "python",
   "nbconvert_exporter": "python",
   "pygments_lexer": "ipython3",
   "version": "3.12.5"
  }
 },
 "nbformat": 4,
 "nbformat_minor": 5
}
